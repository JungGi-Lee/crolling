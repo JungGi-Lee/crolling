{
 "cells": [
  {
   "cell_type": "code",
   "execution_count": null,
   "metadata": {},
   "outputs": [],
   "source": [
    "import requests"
   ]
  },
  {
   "cell_type": "code",
   "execution_count": null,
   "metadata": {},
   "outputs": [],
   "source": [
    "#세션 활성화\n",
    "session  =  requests.Session()"
   ]
  },
  {
   "cell_type": "code",
   "execution_count": null,
   "metadata": {},
   "outputs": [],
   "source": [
    "response = s.get('https://www.naver.com')\n",
    "#수신 데이터\n",
    "# print(response.text)\n",
    "\n",
    "#수신 상태 코드\n",
    "print('Status Code : {}'.format(response.status_code))\n",
    "\n",
    "#확인\n",
    "print('Ok? : {}'.format(response.ok))"
   ]
  },
  {
   "cell_type": "code",
   "execution_count": null,
   "metadata": {},
   "outputs": [],
   "source": [
    "session.close()"
   ]
  },
  {
   "cell_type": "code",
   "execution_count": null,
   "metadata": {},
   "outputs": [],
   "source": [
    "session = requests.Session()"
   ]
  },
  {
   "cell_type": "code",
   "execution_count": null,
   "metadata": {},
   "outputs": [],
   "source": [
    "#쿠키 Return\n",
    "response = session.get('https://httpbin.org/cookies',   cookies = {' name' :  'kim1'})\n",
    "print(response.text)"
   ]
  },
  {
   "cell_type": "code",
   "execution_count": null,
   "metadata": {},
   "outputs": [],
   "source": [
    "# 쿠키 set\n",
    "response = session.get('https://httpbin.org/cookies/set',  cookies = {'name' :  'kim2'})\n",
    "print(response.text)"
   ]
  },
  {
   "cell_type": "code",
   "execution_count": null,
   "metadata": {},
   "outputs": [],
   "source": [
    "# User-Agent\n",
    "url = 'https://httpbin.org'\n",
    "headers = {'user-agent' : 'nice-man_1.0.0.0_win10_ram16_home_chrome'}\n",
    "\n",
    "# Header 정보 전송\n",
    "response = session.get(url, headers=headers)\n",
    "print(response.text)"
   ]
  },
  {
   "cell_type": "code",
   "execution_count": null,
   "metadata": {},
   "outputs": [],
   "source": [
    "#Session  close()\n",
    "session.close()"
   ]
  },
  {
   "cell_type": "code",
   "execution_count": null,
   "metadata": {},
   "outputs": [],
   "source": [
    "#with 문 사용 권장 -> 파일, DB, HTTP\n",
    "with requests.Session() as session:\n",
    "    response = session.get('https://daum.net')\n",
    "    print(response.text)\n",
    "    print(response.ok)"
   ]
  },
  {
   "cell_type": "code",
   "execution_count": null,
   "metadata": {},
   "outputs": [],
   "source": []
  }
 ],
 "metadata": {
  "kernelspec": {
   "display_name": "Python 3",
   "language": "python",
   "name": "python3"
  },
  "language_info": {
   "codemirror_mode": {
    "name": "ipython",
    "version": 3
   },
   "file_extension": ".py",
   "mimetype": "text/x-python",
   "name": "python",
   "nbconvert_exporter": "python",
   "pygments_lexer": "ipython3",
   "version": "3.8.5"
  }
 },
 "nbformat": 4,
 "nbformat_minor": 4
}
